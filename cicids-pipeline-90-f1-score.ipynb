{
 "cells": [
  {
   "cell_type": "code",
   "execution_count": 1,
   "id": "6fd0c390",
   "metadata": {
    "execution": {
     "iopub.execute_input": "2023-06-04T05:07:10.328544Z",
     "iopub.status.busy": "2023-06-04T05:07:10.327894Z",
     "iopub.status.idle": "2023-06-04T05:07:12.233556Z",
     "shell.execute_reply": "2023-06-04T05:07:12.231921Z"
    },
    "papermill": {
     "duration": 1.917577,
     "end_time": "2023-06-04T05:07:12.237247",
     "exception": false,
     "start_time": "2023-06-04T05:07:10.319670",
     "status": "completed"
    },
    "tags": []
   },
   "outputs": [],
   "source": [
    "import numpy as np # linear algebra\n",
    "import pandas as pd # data processing, CSV file I/O (e.g. pd.read_csv)\n",
    "import matplotlib\n",
    "import seaborn as sns\n",
    "import sklearn\n",
    "import imblearn\n",
    "import matplotlib.pyplot as plt\n",
    "import time\n",
    "import sklearn.metrics as m\n",
    "import xgboost as xgb\n",
    "# Ignore warnings\n",
    "import warnings\n",
    "warnings.filterwarnings('ignore')"
   ]
  },
  {
   "cell_type": "code",
   "execution_count": 2,
   "id": "016f1107",
   "metadata": {
    "execution": {
     "iopub.execute_input": "2023-06-04T05:07:12.253679Z",
     "iopub.status.busy": "2023-06-04T05:07:12.253208Z",
     "iopub.status.idle": "2023-06-04T05:07:21.472624Z",
     "shell.execute_reply": "2023-06-04T05:07:21.471415Z"
    },
    "papermill": {
     "duration": 9.231142,
     "end_time": "2023-06-04T05:07:21.475676",
     "exception": false,
     "start_time": "2023-06-04T05:07:12.244534",
     "status": "completed"
    },
    "tags": []
   },
   "outputs": [],
   "source": [
    "#Settings\n",
    "pd.set_option('display.max_columns', None)\n",
    "pd.set_option('display.max_rows', None)\n",
    "#Probably can`t be finished because of huge amount of data with kaggle hardware, add nrows parameter to run here\n",
    "#Load Data\n",
    "\n",
    "cols = [' Bwd Packet Length Std',' PSH Flag Count',' min_seg_size_forward',' Min Packet Length',' ACK Flag Count',' Bwd Packet Length Min',' Fwd IAT Std','Init_Win_bytes_forward',' Flow IAT Max',' Bwd Packets/s',' URG Flag Count','Bwd IAT Total',' Label']\n",
    "df1=pd.read_csv(\"/kaggle/input/cicids2017/MachineLearningCSV/MachineLearningCVE/Friday-WorkingHours-Afternoon-DDos.pcap_ISCX.csv\", usecols = cols)#,nrows = 50000\n",
    "df2=pd.read_csv(\"/kaggle/input/cicids2017/MachineLearningCSV/MachineLearningCVE/Friday-WorkingHours-Afternoon-PortScan.pcap_ISCX.csv\", usecols = cols)\n",
    "df3=pd.read_csv(\"/kaggle/input/cicids2017/MachineLearningCSV/MachineLearningCVE/Friday-WorkingHours-Morning.pcap_ISCX.csv\", usecols = cols)\n",
    "df5=pd.read_csv(\"/kaggle/input/cicids2017/MachineLearningCSV/MachineLearningCVE/Thursday-WorkingHours-Afternoon-Infilteration.pcap_ISCX.csv\", usecols = cols)\n",
    "df6=pd.read_csv(\"/kaggle/input/cicids2017/MachineLearningCSV/MachineLearningCVE/Thursday-WorkingHours-Morning-WebAttacks.pcap_ISCX.csv\", usecols = cols)\n",
    "\n",
    "df = pd.concat([df1,df2])\n",
    "del df1,df2\n",
    "df = pd.concat([df,df3])\n",
    "del df3\n",
    "df = pd.concat([df,df5])\n",
    "del df5\n",
    "df = pd.concat([df,df6])\n",
    "del df6\n",
    "\n",
    "data = df.copy()"
   ]
  },
  {
   "cell_type": "code",
   "execution_count": 3,
   "id": "6c66aaf3",
   "metadata": {
    "execution": {
     "iopub.execute_input": "2023-06-04T05:07:21.490819Z",
     "iopub.status.busy": "2023-06-04T05:07:21.490403Z",
     "iopub.status.idle": "2023-06-04T05:07:22.068019Z",
     "shell.execute_reply": "2023-06-04T05:07:22.066347Z"
    },
    "papermill": {
     "duration": 0.589076,
     "end_time": "2023-06-04T05:07:22.071511",
     "exception": false,
     "start_time": "2023-06-04T05:07:21.482435",
     "status": "completed"
    },
    "tags": []
   },
   "outputs": [],
   "source": [
    "for column in data.columns:\n",
    "    if data[column].dtype == np.int64:\n",
    "        maxVal = data[column].max()\n",
    "        if maxVal < 120:\n",
    "            data[column] = data[column].astype(np.int8)\n",
    "        elif maxVal < 32767:\n",
    "            data[column] = data[column].astype(np.int16)\n",
    "        else:\n",
    "            data[column] = data[column].astype(np.int32)\n",
    "            \n",
    "    if data[column].dtype == np.float64:\n",
    "        maxVal = data[column].max()\n",
    "        minVal = data[data[column]>0][column]\n",
    "        if maxVal < 120 and minVal>0.01 :\n",
    "            data[column] = data[column].astype(np.float16)\n",
    "        else:\n",
    "            data[column] = data[column].astype(np.float32)\n",
    "            \n",
    "            \n",
    "\n",
    "attackType = data[' Label'].unique()\n",
    "data[' Label'] = data[' Label'].astype('category')\n",
    "data[' Label'] = data[' Label'].astype(\"category\").cat.codes"
   ]
  },
  {
   "cell_type": "code",
   "execution_count": 4,
   "id": "9c8afb86",
   "metadata": {
    "execution": {
     "iopub.execute_input": "2023-06-04T05:07:22.088414Z",
     "iopub.status.busy": "2023-06-04T05:07:22.086922Z",
     "iopub.status.idle": "2023-06-04T05:07:22.512511Z",
     "shell.execute_reply": "2023-06-04T05:07:22.511144Z"
    },
    "papermill": {
     "duration": 0.437121,
     "end_time": "2023-06-04T05:07:22.515775",
     "exception": false,
     "start_time": "2023-06-04T05:07:22.078654",
     "status": "completed"
    },
    "tags": []
   },
   "outputs": [],
   "source": [
    "y = data[' Label'].copy()\n",
    "X = data.drop([' Label'],axis=1)\n",
    "from imblearn.under_sampling import RandomUnderSampler\n",
    "\n",
    "rus = RandomUnderSampler('majority')\n",
    "X_rus, y_rus = rus.fit_resample(X, y)"
   ]
  },
  {
   "cell_type": "code",
   "execution_count": 5,
   "id": "330bf76d",
   "metadata": {
    "execution": {
     "iopub.execute_input": "2023-06-04T05:07:22.531506Z",
     "iopub.status.busy": "2023-06-04T05:07:22.530400Z",
     "iopub.status.idle": "2023-06-04T05:07:22.547532Z",
     "shell.execute_reply": "2023-06-04T05:07:22.546227Z"
    },
    "papermill": {
     "duration": 0.028014,
     "end_time": "2023-06-04T05:07:22.550469",
     "exception": false,
     "start_time": "2023-06-04T05:07:22.522455",
     "status": "completed"
    },
    "tags": []
   },
   "outputs": [
    {
     "data": {
      "text/plain": [
       "4    158930\n",
       "2    128027\n",
       "1      1966\n",
       "5      1507\n",
       "7       652\n",
       "3        36\n",
       "0        21\n",
       "6        21\n",
       "Name:  Label, dtype: int64"
      ]
     },
     "execution_count": 5,
     "metadata": {},
     "output_type": "execute_result"
    }
   ],
   "source": [
    "y_rus.value_counts()"
   ]
  },
  {
   "cell_type": "code",
   "execution_count": 6,
   "id": "6542e3a5",
   "metadata": {
    "execution": {
     "iopub.execute_input": "2023-06-04T05:07:22.566148Z",
     "iopub.status.busy": "2023-06-04T05:07:22.565659Z",
     "iopub.status.idle": "2023-06-04T05:07:22.608603Z",
     "shell.execute_reply": "2023-06-04T05:07:22.607224Z"
    },
    "papermill": {
     "duration": 0.054073,
     "end_time": "2023-06-04T05:07:22.611606",
     "exception": false,
     "start_time": "2023-06-04T05:07:22.557533",
     "status": "completed"
    },
    "tags": []
   },
   "outputs": [
    {
     "data": {
      "text/plain": [
       "1    1966\n",
       "5    1507\n",
       "7     652\n",
       "3      36\n",
       "0      21\n",
       "6      21\n",
       "Name:  Label, dtype: int64"
      ]
     },
     "execution_count": 6,
     "metadata": {},
     "output_type": "execute_result"
    }
   ],
   "source": [
    "df = X_rus\n",
    "df[' Label'] = y_rus\n",
    "minor = pd.DataFrame(df[(df[' Label']!=4) & (df[' Label']!=2)])\n",
    "major = pd.DataFrame(df[(df[' Label']==4) | (df[' Label']==2)])\n",
    "minor[' Label'].value_counts()"
   ]
  },
  {
   "cell_type": "code",
   "execution_count": 7,
   "id": "f87f3b1f",
   "metadata": {
    "execution": {
     "iopub.execute_input": "2023-06-04T05:07:22.628336Z",
     "iopub.status.busy": "2023-06-04T05:07:22.627032Z",
     "iopub.status.idle": "2023-06-04T05:07:22.680739Z",
     "shell.execute_reply": "2023-06-04T05:07:22.679512Z"
    },
    "papermill": {
     "duration": 0.065387,
     "end_time": "2023-06-04T05:07:22.684002",
     "exception": false,
     "start_time": "2023-06-04T05:07:22.618615",
     "status": "completed"
    },
    "tags": []
   },
   "outputs": [],
   "source": [
    "from imblearn.over_sampling import SMOTE\n",
    "y_rus_ =  minor[' Label']\n",
    "X_rus_ =  minor.drop([' Label'],axis=1)\n",
    "strategy = {1:2000, 5:1600, 7:800, 3:300, 6:200, 0:200}\n",
    "sm = SMOTE(sampling_strategy=strategy)\n",
    "X_sm, y_sm = sm.fit_resample(X_rus_, y_rus_)\n",
    "X_min,y_min = X_sm, y_sm "
   ]
  },
  {
   "cell_type": "code",
   "execution_count": 8,
   "id": "f231601c",
   "metadata": {
    "execution": {
     "iopub.execute_input": "2023-06-04T05:07:22.699783Z",
     "iopub.status.busy": "2023-06-04T05:07:22.699353Z",
     "iopub.status.idle": "2023-06-04T05:07:22.710429Z",
     "shell.execute_reply": "2023-06-04T05:07:22.709293Z"
    },
    "papermill": {
     "duration": 0.022556,
     "end_time": "2023-06-04T05:07:22.713389",
     "exception": false,
     "start_time": "2023-06-04T05:07:22.690833",
     "status": "completed"
    },
    "tags": []
   },
   "outputs": [
    {
     "data": {
      "text/plain": [
       "4    158930\n",
       "2    128027\n",
       "Name:  Label, dtype: int64"
      ]
     },
     "execution_count": 8,
     "metadata": {},
     "output_type": "execute_result"
    }
   ],
   "source": [
    "major[' Label'].value_counts()"
   ]
  },
  {
   "cell_type": "code",
   "execution_count": 9,
   "id": "6acbab16",
   "metadata": {
    "execution": {
     "iopub.execute_input": "2023-06-04T05:07:22.729644Z",
     "iopub.status.busy": "2023-06-04T05:07:22.729224Z",
     "iopub.status.idle": "2023-06-04T05:07:22.842898Z",
     "shell.execute_reply": "2023-06-04T05:07:22.841385Z"
    },
    "papermill": {
     "duration": 0.12518,
     "end_time": "2023-06-04T05:07:22.845817",
     "exception": false,
     "start_time": "2023-06-04T05:07:22.720637",
     "status": "completed"
    },
    "tags": []
   },
   "outputs": [
    {
     "data": {
      "text/plain": [
       "4    10000\n",
       "2     6000\n",
       "Name:  Label, dtype: int64"
      ]
     },
     "execution_count": 9,
     "metadata": {},
     "output_type": "execute_result"
    }
   ],
   "source": [
    "from imblearn.under_sampling import RandomUnderSampler\n",
    "y_rus_ =  major[' Label']\n",
    "X_rus_ =  major.drop([' Label'],axis=1)\n",
    "strategy = {4:10000, 2:6000}\n",
    "tom = RandomUnderSampler(sampling_strategy=strategy)\n",
    "X_tom, y_tom = tom.fit_resample(X_rus_, y_rus_)\n",
    "y_tom.value_counts()"
   ]
  },
  {
   "cell_type": "code",
   "execution_count": 10,
   "id": "a9b8b2ef",
   "metadata": {
    "execution": {
     "iopub.execute_input": "2023-06-04T05:07:22.862577Z",
     "iopub.status.busy": "2023-06-04T05:07:22.862147Z",
     "iopub.status.idle": "2023-06-04T05:07:22.893189Z",
     "shell.execute_reply": "2023-06-04T05:07:22.892191Z"
    },
    "papermill": {
     "duration": 0.042863,
     "end_time": "2023-06-04T05:07:22.896126",
     "exception": false,
     "start_time": "2023-06-04T05:07:22.853263",
     "status": "completed"
    },
    "tags": []
   },
   "outputs": [
    {
     "name": "stdout",
     "output_type": "stream",
     "text": [
      "<class 'pandas.core.frame.DataFrame'>\n",
      "Int64Index: 21100 entries, 0 to 5099\n",
      "Data columns (total 12 columns):\n",
      " #   Column                  Non-Null Count  Dtype  \n",
      "---  ------                  --------------  -----  \n",
      " 0    Bwd Packet Length Min  21100 non-null  int16  \n",
      " 1    Bwd Packet Length Std  21100 non-null  float32\n",
      " 2    Flow IAT Max           21100 non-null  int32  \n",
      " 3    Fwd IAT Std            21100 non-null  float32\n",
      " 4   Bwd IAT Total           21100 non-null  int32  \n",
      " 5    Bwd Packets/s          21100 non-null  float32\n",
      " 6    Min Packet Length      21100 non-null  int16  \n",
      " 7    PSH Flag Count         21100 non-null  int8   \n",
      " 8    ACK Flag Count         21100 non-null  int8   \n",
      " 9    URG Flag Count         21100 non-null  int8   \n",
      " 10  Init_Win_bytes_forward  21100 non-null  int32  \n",
      " 11   min_seg_size_forward   21100 non-null  int8   \n",
      "dtypes: float32(3), int16(2), int32(3), int8(4)\n",
      "memory usage: 824.2 KB\n"
     ]
    }
   ],
   "source": [
    "X_maj,y_maj = X_tom, y_tom\n",
    "X,y = pd.concat([X_maj,X_min]), pd.concat([y_maj,y_min])\n",
    "X.info()"
   ]
  },
  {
   "cell_type": "code",
   "execution_count": 11,
   "id": "40ddc897",
   "metadata": {
    "execution": {
     "iopub.execute_input": "2023-06-04T05:07:22.912894Z",
     "iopub.status.busy": "2023-06-04T05:07:22.912431Z",
     "iopub.status.idle": "2023-06-04T05:07:24.524143Z",
     "shell.execute_reply": "2023-06-04T05:07:24.522815Z"
    },
    "papermill": {
     "duration": 1.623376,
     "end_time": "2023-06-04T05:07:24.527005",
     "exception": false,
     "start_time": "2023-06-04T05:07:22.903629",
     "status": "completed"
    },
    "tags": []
   },
   "outputs": [
    {
     "name": "stdout",
     "output_type": "stream",
     "text": [
      "RF Classifier run\n",
      "SV Classifier run\n",
      "DTC Classifier run\n"
     ]
    }
   ],
   "source": [
    "from sklearn.preprocessing import StandardScaler\n",
    "scaler = StandardScaler()\n",
    "\n",
    "# extract numerical attributes and scale it to have zero mean and unit variance  \n",
    "cols = X.select_dtypes(include=['float32','float16','int32','int16','int8']).columns\n",
    "train_X = scaler.fit_transform(X.select_dtypes(include=['float32','float16','int32','int16','int8']))\n",
    "\n",
    "\n",
    "\n",
    "from sklearn.model_selection import train_test_split\n",
    "X_train,X_test,Y_train,Y_test = train_test_split(train_X,y,train_size=0.70, random_state=2)\n",
    "\n",
    "\n",
    "from sklearn import tree\n",
    "from sklearn.model_selection import cross_val_score\n",
    "from sklearn.ensemble import RandomForestClassifier\n",
    "from sklearn.svm import SVC\n",
    "\n",
    "# Train Random Forest\n",
    "RFC_Classifier = RandomForestClassifier(max_depth=40)\n",
    "RFC_Classifier.fit(X_train, Y_train)\n",
    "print ('RF Classifier run')\n",
    "\n",
    "# Train SVC\n",
    "SVM_Classifier = SVC()\n",
    "SVM_Classifier.fit(X_train, Y_train)\n",
    "print ('SV Classifier run')\n",
    "# Train Decision Tree Model\n",
    "DTC_Classifier = tree.DecisionTreeClassifier(criterion='gini', max_depth=33, random_state=20, max_features=12, splitter='random')\n",
    "DTC_Classifier.fit(X_train, Y_train)\n",
    "print ('DTC Classifier run')"
   ]
  },
  {
   "cell_type": "code",
   "execution_count": 12,
   "id": "d20b3253",
   "metadata": {
    "execution": {
     "iopub.execute_input": "2023-06-04T05:07:24.544380Z",
     "iopub.status.busy": "2023-06-04T05:07:24.543611Z",
     "iopub.status.idle": "2023-06-04T05:07:42.787005Z",
     "shell.execute_reply": "2023-06-04T05:07:42.785403Z"
    },
    "papermill": {
     "duration": 18.255325,
     "end_time": "2023-06-04T05:07:42.789858",
     "exception": false,
     "start_time": "2023-06-04T05:07:24.534533",
     "status": "completed"
    },
    "tags": []
   },
   "outputs": [
    {
     "name": "stdout",
     "output_type": "stream",
     "text": [
      "\n",
      "============================== Random Forest Classifier Model Evaluation ==============================\n",
      "\n",
      "Cross Validation Mean Score:\n",
      " 0.9599162313559493\n",
      "\n",
      "Model Accuracy:\n",
      " 0.9871352156544113\n",
      "\n",
      "Confusion matrix:\n",
      " [[ 140    0    0    0    0    0    0    0]\n",
      " [   0 1359    0    0    0    0    0    0]\n",
      " [   0    0 4232    0    0    0    0    0]\n",
      " [   0    0    0  197    0    0    0    0]\n",
      " [   0    0    0    0 7034    0    0    0]\n",
      " [   0    0    0    0    0 1105    0    0]\n",
      " [   0    0    0    0    0    1  141    0]\n",
      " [   0    0    0    0    0  189    0  371]]\n",
      "\n",
      "Classification report:\n",
      "               precision    recall  f1-score   support\n",
      "\n",
      "           0       1.00      1.00      1.00       140\n",
      "           1       1.00      1.00      1.00      1359\n",
      "           2       1.00      1.00      1.00      4232\n",
      "           3       1.00      1.00      1.00       197\n",
      "           4       1.00      1.00      1.00      7034\n",
      "           5       0.85      1.00      0.92      1105\n",
      "           6       1.00      0.99      1.00       142\n",
      "           7       1.00      0.66      0.80       560\n",
      "\n",
      "    accuracy                           0.99     14769\n",
      "   macro avg       0.98      0.96      0.96     14769\n",
      "weighted avg       0.99      0.99      0.99     14769\n",
      "\n",
      "\n",
      "\n",
      "============================== Decision Tree Classifier Model Evaluation ==============================\n",
      "\n",
      "Cross Validation Mean Score:\n",
      " 0.9592392750264672\n",
      "\n",
      "Model Accuracy:\n",
      " 0.9997291624348297\n",
      "\n",
      "Confusion matrix:\n",
      " [[ 140    0    0    0    0    0    0    0]\n",
      " [   0 1359    0    0    0    0    0    0]\n",
      " [   0    0 4232    0    0    0    0    0]\n",
      " [   0    0    0  197    0    0    0    0]\n",
      " [   0    0    0    0 7034    0    0    0]\n",
      " [   0    0    0    0    0 1102    0    3]\n",
      " [   0    0    0    0    0    1  141    0]\n",
      " [   0    0    0    0    0    0    0  560]]\n",
      "\n",
      "Classification report:\n",
      "               precision    recall  f1-score   support\n",
      "\n",
      "           0       1.00      1.00      1.00       140\n",
      "           1       1.00      1.00      1.00      1359\n",
      "           2       1.00      1.00      1.00      4232\n",
      "           3       1.00      1.00      1.00       197\n",
      "           4       1.00      1.00      1.00      7034\n",
      "           5       1.00      1.00      1.00      1105\n",
      "           6       1.00      0.99      1.00       142\n",
      "           7       0.99      1.00      1.00       560\n",
      "\n",
      "    accuracy                           1.00     14769\n",
      "   macro avg       1.00      1.00      1.00     14769\n",
      "weighted avg       1.00      1.00      1.00     14769\n",
      "\n",
      "\n",
      "\n",
      "============================== Support Vector Classifier Model Evaluation ==============================\n",
      "\n",
      "Cross Validation Mean Score:\n",
      " 0.9547025025091145\n",
      "\n",
      "Model Accuracy:\n",
      " 0.9559211862685354\n",
      "\n",
      "Confusion matrix:\n",
      " [[ 114    1   11    4    0    3    1    6]\n",
      " [   0 1350    6    0    0    1    0    2]\n",
      " [   0    0 4232    0    0    0    0    0]\n",
      " [   1    1   15  180    0    0    0    0]\n",
      " [   0    0    0    0 7026    2    3    3]\n",
      " [   0    0    0    0    0 1102    3    0]\n",
      " [   1    0    0    0    0   59   82    0]\n",
      " [   0    0    0    0    0  523    5   32]]\n",
      "\n",
      "Classification report:\n",
      "               precision    recall  f1-score   support\n",
      "\n",
      "           0       0.98      0.81      0.89       140\n",
      "           1       1.00      0.99      1.00      1359\n",
      "           2       0.99      1.00      1.00      4232\n",
      "           3       0.98      0.91      0.94       197\n",
      "           4       1.00      1.00      1.00      7034\n",
      "           5       0.65      1.00      0.79      1105\n",
      "           6       0.87      0.58      0.69       142\n",
      "           7       0.74      0.06      0.11       560\n",
      "\n",
      "    accuracy                           0.96     14769\n",
      "   macro avg       0.90      0.79      0.80     14769\n",
      "weighted avg       0.96      0.96      0.94     14769\n",
      "\n",
      "\n"
     ]
    }
   ],
   "source": [
    "from sklearn import metrics\n",
    "\n",
    "models = []\n",
    "models.append(('Random Forest Classifier', RFC_Classifier))\n",
    "models.append(('Decision Tree Classifier', DTC_Classifier))\n",
    "models.append(('Support Vector Classifier',SVM_Classifier))\n",
    "\n",
    "for i, v in models:\n",
    "    Xpred =  v.predict(X_train)\n",
    "    scores = cross_val_score(v, X_train, Y_train, cv=10)\n",
    "    accuracy = metrics.accuracy_score(Y_train, Xpred)\n",
    "    confusion_matrix = metrics.confusion_matrix(Y_train, Xpred)\n",
    "    classification = metrics.classification_report(Y_train, Xpred)\n",
    "    print()\n",
    "    print('============================== {} Model Evaluation =============================='.format(i))\n",
    "    print()\n",
    "    print (\"Cross Validation Mean Score:\" \"\\n\", scores.mean())\n",
    "    print()\n",
    "    print (\"Model Accuracy:\" \"\\n\", accuracy)\n",
    "    print()\n",
    "    print(\"Confusion matrix:\" \"\\n\", confusion_matrix)\n",
    "    print()\n",
    "    print(\"Classification report:\" \"\\n\", classification) \n",
    "    print()"
   ]
  },
  {
   "cell_type": "code",
   "execution_count": 13,
   "id": "dc9f5275",
   "metadata": {
    "execution": {
     "iopub.execute_input": "2023-06-04T05:07:42.809009Z",
     "iopub.status.busy": "2023-06-04T05:07:42.808585Z",
     "iopub.status.idle": "2023-06-04T05:07:43.733955Z",
     "shell.execute_reply": "2023-06-04T05:07:43.732082Z"
    },
    "papermill": {
     "duration": 0.937634,
     "end_time": "2023-06-04T05:07:43.737018",
     "exception": false,
     "start_time": "2023-06-04T05:07:42.799384",
     "status": "completed"
    },
    "tags": []
   },
   "outputs": [
    {
     "name": "stdout",
     "output_type": "stream",
     "text": [
      "\n",
      "============================== Random Forest Classifier Model Test Results ==============================\n",
      "\n",
      "Model Accuracy:\n",
      " 0.9627231085136629\n",
      "\n",
      "Confusion matrix:\n",
      " [[  57    0    0    2    0    0    0    1]\n",
      " [   0  641    0    0    0    0    0    0]\n",
      " [   0    3 1765    0    0    0    0    0]\n",
      " [   0    1    0  102    0    0    0    0]\n",
      " [   0    0    0    0 2962    3    0    1]\n",
      " [   0    0    0    0    0  429    1   65]\n",
      " [   0    0    0    0    0    3   55    0]\n",
      " [   1    0    0    0    1  153    1   84]]\n",
      "\n",
      "Classification report:\n",
      "               precision    recall  f1-score   support\n",
      "\n",
      "           0       0.98      0.95      0.97        60\n",
      "           1       0.99      1.00      1.00       641\n",
      "           2       1.00      1.00      1.00      1768\n",
      "           3       0.98      0.99      0.99       103\n",
      "           4       1.00      1.00      1.00      2966\n",
      "           5       0.73      0.87      0.79       495\n",
      "           6       0.96      0.95      0.96        58\n",
      "           7       0.56      0.35      0.43       240\n",
      "\n",
      "    accuracy                           0.96      6331\n",
      "   macro avg       0.90      0.89      0.89      6331\n",
      "weighted avg       0.96      0.96      0.96      6331\n",
      "\n",
      "\n",
      "\n",
      "============================== Decision Tree Classifier Model Test Results ==============================\n",
      "\n",
      "Model Accuracy:\n",
      " 0.9564049913125888\n",
      "\n",
      "Confusion matrix:\n",
      " [[  57    0    0    2    0    0    0    1]\n",
      " [   0  641    0    0    0    0    0    0]\n",
      " [   0    3 1765    0    0    0    0    0]\n",
      " [   0    1    0  102    0    0    0    0]\n",
      " [   0    3    0    0 2962    0    0    1]\n",
      " [   0    0    0    0    0  361    1  133]\n",
      " [   0    0    0    0    0    6   50    2]\n",
      " [   1    0    0    0    1  119    2  117]]\n",
      "\n",
      "Classification report:\n",
      "               precision    recall  f1-score   support\n",
      "\n",
      "           0       0.98      0.95      0.97        60\n",
      "           1       0.99      1.00      0.99       641\n",
      "           2       1.00      1.00      1.00      1768\n",
      "           3       0.98      0.99      0.99       103\n",
      "           4       1.00      1.00      1.00      2966\n",
      "           5       0.74      0.73      0.74       495\n",
      "           6       0.94      0.86      0.90        58\n",
      "           7       0.46      0.49      0.47       240\n",
      "\n",
      "    accuracy                           0.96      6331\n",
      "   macro avg       0.89      0.88      0.88      6331\n",
      "weighted avg       0.96      0.96      0.96      6331\n",
      "\n",
      "\n",
      "\n",
      "============================== Support Vector Classifier Model Test Results ==============================\n",
      "\n",
      "Model Accuracy:\n",
      " 0.9545095561522666\n",
      "\n",
      "Confusion matrix:\n",
      " [[  49    0    3    1    0    3    0    4]\n",
      " [   0  640    0    0    0    1    0    0]\n",
      " [   2    1 1765    0    0    0    0    0]\n",
      " [   4    1    8   90    0    0    0    0]\n",
      " [   0    0    0    0 2962    4    0    0]\n",
      " [   0    0    0    0    0  493    2    0]\n",
      " [   1    0    0    0    0   28   29    0]\n",
      " [   0    0    0    0    1  221    3   15]]\n",
      "\n",
      "Classification report:\n",
      "               precision    recall  f1-score   support\n",
      "\n",
      "           0       0.88      0.82      0.84        60\n",
      "           1       1.00      1.00      1.00       641\n",
      "           2       0.99      1.00      1.00      1768\n",
      "           3       0.99      0.87      0.93       103\n",
      "           4       1.00      1.00      1.00      2966\n",
      "           5       0.66      1.00      0.79       495\n",
      "           6       0.85      0.50      0.63        58\n",
      "           7       0.79      0.06      0.12       240\n",
      "\n",
      "    accuracy                           0.95      6331\n",
      "   macro avg       0.89      0.78      0.79      6331\n",
      "weighted avg       0.96      0.95      0.94      6331\n",
      "\n",
      "\n"
     ]
    }
   ],
   "source": [
    "for i, v in models:\n",
    "    pred = v.predict(X_test)\n",
    "    accuracy = metrics.accuracy_score(Y_test,pred)\n",
    "    confusion_matrix = metrics.confusion_matrix(Y_test, pred)\n",
    "    classification = metrics.classification_report(Y_test, pred)\n",
    "    print()\n",
    "    print('============================== {} Model Test Results =============================='.format(i))\n",
    "    print()\n",
    "    print (\"Model Accuracy:\" \"\\n\", accuracy)\n",
    "    print()\n",
    "    print(\"Confusion matrix:\" \"\\n\", confusion_matrix)\n",
    "    print()\n",
    "    print(\"Classification report:\" \"\\n\", classification) \n",
    "    print()    "
   ]
  },
  {
   "cell_type": "code",
   "execution_count": 14,
   "id": "6f289051",
   "metadata": {
    "execution": {
     "iopub.execute_input": "2023-06-04T05:07:43.755429Z",
     "iopub.status.busy": "2023-06-04T05:07:43.754997Z",
     "iopub.status.idle": "2023-06-04T05:07:45.306590Z",
     "shell.execute_reply": "2023-06-04T05:07:45.305312Z"
    },
    "papermill": {
     "duration": 1.564248,
     "end_time": "2023-06-04T05:07:45.309535",
     "exception": false,
     "start_time": "2023-06-04T05:07:43.745287",
     "status": "completed"
    },
    "tags": []
   },
   "outputs": [
    {
     "data": {
      "text/plain": [
       "VotingClassifier(estimators=[('dc',\n",
       "                              DecisionTreeClassifier(max_depth=33,\n",
       "                                                     max_features=12,\n",
       "                                                     random_state=20,\n",
       "                                                     splitter='random')),\n",
       "                             ('rf',\n",
       "                              RandomForestClassifier(max_depth=40,\n",
       "                                                     random_state=20)),\n",
       "                             ('svc', SVC())],\n",
       "                 weights=[2, 2, 1])"
      ]
     },
     "execution_count": 14,
     "metadata": {},
     "output_type": "execute_result"
    }
   ],
   "source": [
    "from sklearn.ensemble import VotingClassifier\n",
    "\n",
    "clf1 = tree.DecisionTreeClassifier(criterion='gini', max_depth=33, random_state=20, max_features=12, splitter='random')\n",
    "clf2 = RandomForestClassifier(criterion='gini', max_depth=40, random_state=20)\n",
    "clf3 = SVC()\n",
    "\n",
    "votingC = VotingClassifier(estimators=[('dc',clf1), ('rf', clf2),('svc',clf3)],voting='hard', weights=[2,2,1],flatten_transform=True)\n",
    "votingC.fit(X_train,Y_train)"
   ]
  },
  {
   "cell_type": "code",
   "execution_count": 15,
   "id": "653f97fe",
   "metadata": {
    "execution": {
     "iopub.execute_input": "2023-06-04T05:07:45.327977Z",
     "iopub.status.busy": "2023-06-04T05:07:45.327556Z",
     "iopub.status.idle": "2023-06-04T05:07:46.321621Z",
     "shell.execute_reply": "2023-06-04T05:07:46.320312Z"
    },
    "papermill": {
     "duration": 1.006643,
     "end_time": "2023-06-04T05:07:46.324426",
     "exception": false,
     "start_time": "2023-06-04T05:07:45.317783",
     "status": "completed"
    },
    "tags": []
   },
   "outputs": [
    {
     "name": "stdout",
     "output_type": "stream",
     "text": [
      "\n",
      "============================== Voting Classifier Model Test Results ==============================\n",
      "\n",
      "Model Accuracy:\n",
      " 0.9633549202337703\n",
      "\n",
      "Confusion matrix:\n",
      " [[  58    0    0    1    0    0    0    1]\n",
      " [   0  641    0    0    0    0    0    0]\n",
      " [   0    3 1765    0    0    0    0    0]\n",
      " [   0    1    0  102    0    0    0    0]\n",
      " [   0    0    0    0 2962    3    0    1]\n",
      " [   0    0    0    0    0  446    1   48]\n",
      " [   0    0    0    0    0    4   54    0]\n",
      " [   1    0    0    0    1  165    2   71]]\n",
      "\n",
      "Classification report:\n",
      "               precision    recall  f1-score   support\n",
      "\n",
      "           0       0.98      0.97      0.97        60\n",
      "           1       0.99      1.00      1.00       641\n",
      "           2       1.00      1.00      1.00      1768\n",
      "           3       0.99      0.99      0.99       103\n",
      "           4       1.00      1.00      1.00      2966\n",
      "           5       0.72      0.90      0.80       495\n",
      "           6       0.95      0.93      0.94        58\n",
      "           7       0.59      0.30      0.39       240\n",
      "\n",
      "    accuracy                           0.96      6331\n",
      "   macro avg       0.90      0.89      0.89      6331\n",
      "weighted avg       0.96      0.96      0.96      6331\n",
      "\n",
      "\n"
     ]
    }
   ],
   "source": [
    "pred = votingC.predict(X_test)\n",
    "accuracy = metrics.accuracy_score(Y_test,pred)\n",
    "confusion_matrix = metrics.confusion_matrix(Y_test, pred)\n",
    "classification = metrics.classification_report(Y_test, pred)\n",
    "print()\n",
    "print('============================== {} Model Test Results =============================='.format('Voting Classifier'))\n",
    "print()\n",
    "print (\"Model Accuracy:\" \"\\n\", accuracy)\n",
    "print()\n",
    "print(\"Confusion matrix:\" \"\\n\", confusion_matrix)\n",
    "print()\n",
    "print(\"Classification report:\" \"\\n\", classification) \n",
    "print()    "
   ]
  }
 ],
 "metadata": {
  "kernelspec": {
   "display_name": "Python 3",
   "language": "python",
   "name": "python3"
  },
  "language_info": {
   "codemirror_mode": {
    "name": "ipython",
    "version": 3
   },
   "file_extension": ".py",
   "mimetype": "text/x-python",
   "name": "python",
   "nbconvert_exporter": "python",
   "pygments_lexer": "ipython3",
   "version": "3.7.12"
  },
  "papermill": {
   "default_parameters": {},
   "duration": 49.031385,
   "end_time": "2023-06-04T05:07:47.156838",
   "environment_variables": {},
   "exception": null,
   "input_path": "__notebook__.ipynb",
   "output_path": "__notebook__.ipynb",
   "parameters": {},
   "start_time": "2023-06-04T05:06:58.125453",
   "version": "2.3.4"
  }
 },
 "nbformat": 4,
 "nbformat_minor": 5
}
